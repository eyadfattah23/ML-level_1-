{
 "cells": [
  {
   "cell_type": "markdown",
   "metadata": {},
   "source": [
    "# Optimizer\n",
    "You may sometimes see the term optimizer or optimization function. This is simply the function that implements the backpropagation  (what does the gradient descent and back propagation for us)\n",
    "algorithm described above. Here's a list of a few common ones.\n",
    ".Gradient Descent.\n",
    ".Stochastic Gradient Descent\n",
    ".Min-Batch Gradient Descent\n",
    ".Momentum\n",
    ".Nesterov Accelerated Gradient\n",
    "Ihis article explains them quite well is where Ive pulled this list from. *\n",
    "(https://medium.com/@sdoshi579/optimizers-for-training-neural-network-59450d71caf6)"
   ]
  },
  {
   "cell_type": "markdown",
   "metadata": {},
   "source": []
  },
  {
   "cell_type": "markdown",
   "metadata": {},
   "source": [
    "# Creating a Neural Network\n",
    "Okay, now you have reached the exciting part of this tutorial! No more math and complex explanations. Time to get hands-on and train a very\n",
    "basic neural network.\n",
    "\n",
    "As stated earlier this guide is based on the following TensorFlow tutorial. https:/www.tensorflow.org/tutorials/keras/classification"
   ]
  },
  {
   "cell_type": "code",
   "execution_count": 51,
   "metadata": {},
   "outputs": [],
   "source": [
    "import tensorflow as tf \n",
    "from tensorflow import keras\n",
    "\n",
    "import numpy as np\n",
    "import pandas as pd\n",
    "import matplotlib.pyplot as plt\n"
   ]
  },
  {
   "cell_type": "markdown",
   "metadata": {},
   "source": [
    "# Dataset\n",
    "\n",
    "For this tutorial, we will use **the MNIST Fashion Dataset**. This is a dataset that is included in ~Keras~.\n",
    "\n",
    "This dataset includes 60,000 images for training and 10,000 images for validation/testing."
   ]
  },
  {
   "cell_type": "code",
   "execution_count": 52,
   "metadata": {},
   "outputs": [],
   "source": [
    "fashion_mnist = keras.datasets.fashion_mnist    # load dataset\n",
    "\n",
    "(train_images, train_labels), (test_images, test_labels)= fashion_mnist.load_data()     # split into testing and training"
   ]
  },
  {
   "cell_type": "markdown",
   "metadata": {},
   "source": [
    "this data set is essentially pixelled data of clothing articles\n"
   ]
  },
  {
   "cell_type": "code",
   "execution_count": 53,
   "metadata": {},
   "outputs": [
    {
     "name": "stdout",
     "output_type": "stream",
     "text": [
      "(60000, 28, 28)\n"
     ]
    },
    {
     "data": {
      "text/plain": [
       "numpy.ndarray"
      ]
     },
     "execution_count": 53,
     "metadata": {},
     "output_type": "execute_result"
    }
   ],
   "source": [
    "## Let's have a look at this data to see what we are working with.\n",
    "\n",
    "print(train_images.shape)\n",
    "type(train_images)\n"
   ]
  },
  {
   "cell_type": "markdown",
   "metadata": {},
   "source": [
    "**so we have 60000 imgs that are 28*28 px (784 in total)**\n"
   ]
  },
  {
   "cell_type": "code",
   "execution_count": 54,
   "metadata": {},
   "outputs": [
    {
     "data": {
      "text/plain": [
       "194"
      ]
     },
     "execution_count": 54,
     "metadata": {},
     "output_type": "execute_result"
    }
   ],
   "source": [
    "train_images[0,23,23]   ##the 1st image at row 23 and column 23\n",
    "#so you're looking at the px (23,23) in the 1st image"
   ]
  },
  {
   "cell_type": "markdown",
   "metadata": {},
   "source": [
    "Our pixel values are between 0 and 255, 0 being black and 255 being white. This means we have a grayscale image as there is no color\n",
    "channels.\n",
    "\n",
    "**so** the 194 is the colour of a certain px"
   ]
  },
  {
   "cell_type": "code",
   "execution_count": 55,
   "metadata": {},
   "outputs": [
    {
     "data": {
      "text/plain": [
       "array([9, 0, 0, 3, 0, 2, 7, 2, 5, 5], dtype=uint8)"
      ]
     },
     "execution_count": 55,
     "metadata": {},
     "output_type": "execute_result"
    }
   ],
   "source": [
    "train_labels[:10]    # let's have a look at the first 10 training labels"
   ]
  },
  {
   "cell_type": "markdown",
   "metadata": {},
   "source": [
    "Our labels are integers ranging from 0-9. Each integer represents a specific article of clothing. Well create an array of label names to indicate\n",
    "which is which."
   ]
  },
  {
   "cell_type": "code",
   "execution_count": 56,
   "metadata": {},
   "outputs": [],
   "source": [
    "class_names = ['T-shirt/top', 'Trouser', 'Pullover', 'Dress', 'Coat',\n",
    "'Sandal', 'Shirt', 'Sneaker', 'Bag' ,\"Ankle boot\"]"
   ]
  },
  {
   "cell_type": "markdown",
   "metadata": {},
   "source": [
    "Fianlly let's look at what some of these images look like!"
   ]
  },
  {
   "cell_type": "code",
   "execution_count": 57,
   "metadata": {},
   "outputs": [
    {
     "data": {
      "image/png": "[encoded data removed]",
      "text/plain": [
       "<Figure size 640x480 with 2 Axes>"
      ]
     },
     "metadata": {},
     "output_type": "display_data"
    }
   ],
   "source": [
    "#what to do to show some clothes?\n",
    "\n",
    "plt.figure()        #make a figure\n",
    "plt.imshow(train_images [5])    #show the image        #change the index to look at the desired piece of clothes\n",
    "plt.colorbar()      #do the color bar (the one on the right)\n",
    "plt.grid(False)     #no grid ((this line is for making sure to hide the grid))\n",
    "plt.show()      "
   ]
  },
  {
   "cell_type": "markdown",
   "metadata": {},
   "source": [
    "# Data Preprocessing\n",
    "\n",
    "The last step before creating our model is to preprocess our data. This simply means applying some prior transformations to our data before\n",
    "feeding it to the model. In this case we will simply scale all of our greyscale pixel values (0-255) to be between 0 and 1. We can do this by dividing\n",
    "each value in the training and testing sets by 255.0. We do this because smaller values will make it easier for the model to process our values."
   ]
  },
  {
   "cell_type": "code",
   "execution_count": 58,
   "metadata": {},
   "outputs": [],
   "source": [
    "train_images = train_images/ 255.0\n",
    "test_images= test_images/ 255.0\n",
    "\n"
   ]
  },
  {
   "cell_type": "markdown",
   "metadata": {},
   "source": [
    "افتكر ان النيتورك بتاعتك بتبدا بويتس عشوائية  بين ال0وال1 فالخطوة اللي فاتت دي عشان تسهل الكلاسيفيكيشن على النيتوورك \n",
    "\n",
    "واوعا تنسي ان اللي عملته في الترينينج لازم في التيستينج"
   ]
  },
  {
   "cell_type": "markdown",
   "metadata": {},
   "source": [
    "# Building the Model\n",
    "Now it's time to build the model! We are going to use a keras sequential model with three different layers. This model represents a feed-forward\n",
    "neural network (one that passes values from left to right). We'll break down each layer and its architecture below."
   ]
  },
  {
   "cell_type": "code",
   "execution_count": 59,
   "metadata": {},
   "outputs": [],
   "source": [
    "model = keras.Sequential([\n",
    "    keras.layers.Flatten(input_shape=(28,28)),  # input layer (1)\n",
    "    keras.layers.Dense (128, activation= 'relu' ), # hidden layer (2)\n",
    "    keras.layers.Dense(18, activation='softmax' ) # output layer (3)\n",
    "])"
   ]
  },
  {
   "cell_type": "markdown",
   "metadata": {},
   "source": [
    "0]-->**Sequential**: the most basic form of NN which you've studied till now which makes the info goes from left to right (passing through layers sequentially).\n",
    "\n",
    "[*]-->in the 3 keras lines we are defining the layers we want in our NN\n",
    "\n",
    "1]-->**Flatten**: allows us to take a shape of 28*28 and flatten those px to 784 px\n",
    "\n",
    "2]-->**Dense**: means we are making a dens layer (neurons from prev. layers are connected to every neuron in this layer)\n",
    "\n",
    "3]-->**activation_fn 1**: we used rectified linear unit and i think here **it doesnt really matter**\n",
    "\n",
    "4]-->**the last layer**: we made 10 output neurons and soft max activation_fn\n",
    "\n",
    "[*]-->we chose to add 10 output neurons because it's essentiall \n",
    "### to have as many neurons as the classes we are predicting for\n",
    "\n",
    " and if you look above u have 10 classes \n",
    "\n",
    "\n",
    "and lastly we're gonna have probability distribution with softmax activation_fn"
   ]
  },
  {
   "cell_type": "markdown",
   "metadata": {},
   "source": [
    "#### summary\n",
    "**Layer 1**: This is our input layer and it will conist of 784 neurons. We use the flatten layer with an input shape of (28,28) to denote that our\n",
    "input should come in in that shape. The flatten means that our layer will reshape the shape (28,28) array into a vector of 784 neurons so that\n",
    "each pixel will be associated with one neuron.\n",
    "\n",
    "**Layer 2**: This is our first and only hidden layer. The dense denotes that this layer will be fully connected and each neuron from the previous\n",
    "layer connects to each neuron of this layer. It has 128 neurons and uses the rectify linear unít activation function.\n",
    "\n",
    "**Layer 3**: This is our output later and is also a dense layer. It has 10 neurons that we will look at to determine our models output. Each neuron\n",
    "represents the probability of a given image being one of the 10 different classes. The activation function softmax is used on this layer to\n",
    "calculate a probability distribution for each class. This means the value of any neuron in this layer will be between 0 and 1, where 1\n",
    "represents a high probability of the image being that class."
   ]
  },
  {
   "cell_type": "markdown",
   "metadata": {},
   "source": [
    "# Compile the Model\n",
    "The last step in building the model is to define the loss function, optimizer and metrics we would like to track. I won't go into detail about why\n",
    "we chose each of these right now."
   ]
  },
  {
   "cell_type": "code",
   "execution_count": 60,
   "metadata": {},
   "outputs": [],
   "source": [
    "model.compile (optimizer= 'adam',\n",
    "               loss='sparse_categorical_crossentropy',\n",
    "               metrics=['accuracy'])"
   ]
  },
  {
   "cell_type": "markdown",
   "metadata": {},
   "source": [
    "**adam**: the algorithm that does gradient descent\n",
    "\n",
    "\n",
    "-->the previous is called **hyper parameters**\n",
    "    the parameters that we can adjust and change to manipulate our model(ex: the optimizer, the loss function, the metrics, the activation_fn, epochs)\n",
    "    [so] you cant change the weights or the biases \n",
    "\n",
    "\n",
    "**so** hyper parameter tunning is manually changing those value \n"
   ]
  },
  {
   "cell_type": "markdown",
   "metadata": {},
   "source": [
    "## Training the Model\n",
    "Now it's finally time to train the model. Since we've already done all of the work on Our data this step is as easy as calling a single method."
   ]
  },
  {
   "cell_type": "code",
   "execution_count": 61,
   "metadata": {},
   "outputs": [
    {
     "name": "stdout",
     "output_type": "stream",
     "text": [
      "Epoch 1/5\n",
      "1875/1875 [==============================] - 5s 3ms/step - loss: 0.5043 - accuracy: 0.8232\n",
      "Epoch 2/5\n",
      "1875/1875 [==============================] - 5s 3ms/step - loss: 0.3794 - accuracy: 0.8623\n",
      "Epoch 3/5\n",
      "1875/1875 [==============================] - 5s 3ms/step - loss: 0.3392 - accuracy: 0.8767\n",
      "Epoch 4/5\n",
      "1875/1875 [==============================] - 5s 3ms/step - loss: 0.3118 - accuracy: 0.8851\n",
      "Epoch 5/5\n",
      "1875/1875 [==============================] - 4s 2ms/step - loss: 0.2941 - accuracy: 0.8906\n"
     ]
    },
    {
     "data": {
      "text/plain": [
       "<keras.callbacks.History at 0x26afb1c01c0>"
      ]
     },
     "execution_count": 61,
     "metadata": {},
     "output_type": "execute_result"
    }
   ],
   "source": [
    "model.fit(train_images, train_labels, epochs=5)\n"
   ]
  },
  {
   "cell_type": "markdown",
   "metadata": {},
   "source": [
    "***fit***: we are fitting the model to our training data\n",
    "\n",
    "***notice*** no inp_fn cus keras took care of fo that \n",
    "\n",
    "the prev. acc is the acc on our training data\n"
   ]
  },
  {
   "cell_type": "markdown",
   "metadata": {},
   "source": []
  },
  {
   "cell_type": "code",
   "execution_count": 62,
   "metadata": {},
   "outputs": [
    {
     "name": "stdout",
     "output_type": "stream",
     "text": [
      "313/313 [==============================] - 1s 2ms/step - loss: 0.3637 - accuracy: 0.8692\n",
      "Test accuracy: 0.8691999912261963\n"
     ]
    }
   ],
   "source": [
    "test_loss, test_acc = model.evaluate(test_images, test_labels, verbose=1)\n",
    "print ( 'Test accuracy:', test_acc)"
   ]
  },
  {
   "cell_type": "markdown",
   "metadata": {},
   "source": [
    "the acc. decreased on the testing set, this is called over fitting because it saw the data like alot in the training set \n",
    "\n",
    "so what we want is to get the highest accuracy possible for the new data sets \n",
    "\n",
    "***so*** we need to make sure that the data generalizes better \n",
    "\n",
    "من الاخر غير ال\n",
    "hyper parameters \n",
    "\n",
    "\n",
    "الايبوكس كانت الاول 10 انا هخليها 12"
   ]
  },
  {
   "cell_type": "markdown",
   "metadata": {},
   "source": [
    "# Making Predictions\n",
    "To make predictions we simply need to pass an array of data in the form we've specified in the input layer to .predict () method."
   ]
  },
  {
   "cell_type": "code",
   "execution_count": 63,
   "metadata": {},
   "outputs": [
    {
     "name": "stdout",
     "output_type": "stream",
     "text": [
      "313/313 [==============================] - 1s 2ms/step\n"
     ]
    }
   ],
   "source": [
    "predictions= model.predict(test_images)"
   ]
  },
  {
   "cell_type": "markdown",
   "metadata": {},
   "source": [
    "This method returns to us an array of predictions for each image we passed it. Let's have a look at the predictions for image 1."
   ]
  },
  {
   "cell_type": "code",
   "execution_count": 64,
   "metadata": {},
   "outputs": [
    {
     "data": {
      "text/plain": [
       "array([1.9583181e-06, 1.1610375e-08, 2.0211080e-06, 9.2882868e-10,\n",
       "       9.4806646e-06, 6.7225583e-03, 6.3075959e-07, 8.9607732e-03,\n",
       "       4.5251750e-04, 9.8385012e-01, 5.0655383e-12, 1.3698041e-12,\n",
       "       2.3639161e-13, 1.2133454e-12, 9.5957036e-12, 1.0277029e-11,\n",
       "       2.0202384e-12, 1.6753350e-12], dtype=float32)"
      ]
     },
     "execution_count": 64,
     "metadata": {},
     "output_type": "execute_result"
    }
   ],
   "source": [
    "predictions[0]"
   ]
  },
  {
   "cell_type": "code",
   "execution_count": 65,
   "metadata": {},
   "outputs": [
    {
     "data": {
      "text/plain": [
       "(10000, 28, 28)"
      ]
     },
     "execution_count": 65,
     "metadata": {},
     "output_type": "execute_result"
    }
   ],
   "source": [
    "test_images.shape"
   ]
  },
  {
   "cell_type": "markdown",
   "metadata": {},
   "source": [
    "If we want to get the value with the highest score we can use a useful function from numpy called argmax () . This simply returns the index of\n",
    "the maximium value from a numpy array."
   ]
  },
  {
   "cell_type": "code",
   "execution_count": 66,
   "metadata": {},
   "outputs": [
    {
     "name": "stdout",
     "output_type": "stream",
     "text": [
      "Trouser\n"
     ]
    },
    {
     "data": {
      "image/png": "[encoded data removed]",
      "text/plain": [
       "<Figure size 640x480 with 2 Axes>"
      ]
     },
     "metadata": {},
     "output_type": "display_data"
    }
   ],
   "source": [
    "print(class_names[np.argmax(predictions[2])])\n",
    "plt.figure()\n",
    "plt.imshow(test_images[2])\n",
    "plt.colorbar()\n",
    "plt.grid(False)\n",
    "plt.show()"
   ]
  },
  {
   "cell_type": "markdown",
   "metadata": {},
   "source": [
    "# Verifying Predictions\n",
    "    (unnessesary)\n",
    "I've written a small function here to help us verify predictions with some simple visuals."
   ]
  },
  {
   "cell_type": "markdown",
   "metadata": {},
   "source": [
    "what its gonna do is get the number from user and search for the piece of clothe that has that no. and find it then its gonna make a prediction about that piece from the model and show us what it actually is vs what it's supposed to be"
   ]
  },
  {
   "cell_type": "code",
   "execution_count": 69,
   "metadata": {},
   "outputs": [
    {
     "name": "stdout",
     "output_type": "stream",
     "text": [
      "1/1 [==============================] - 0s 19ms/step\n"
     ]
    },
    {
     "data": {
      "image/png": "[encoded data removed]",
      "text/plain": [
       "<Figure size 640x480 with 2 Axes>"
      ]
     },
     "metadata": {},
     "output_type": "display_data"
    }
   ],
   "source": [
    "COLOR= 'black'\n",
    "plt.rcParams['text.color'] = COLOR\n",
    "plt.rcParams ['axes.labelcolor'] = COLOR\n",
    "def predict(model, image, correct_label):\n",
    "    class_names = ['T-shirt/top', 'Trouser', 'Pullover', 'Dress', 'Coat',\n",
    "                'Sandal', 'Shirt', 'Sneaker', 'Bag' ,\"Ankle boot\"]\n",
    "    prediction = model.predict(np.array([image]))\n",
    "    predicted_class = class_names [np.argmax(prediction)]\n",
    "    \n",
    "    show_image(image, class_names[correct_label],predicted_class)\n",
    "    \n",
    "    \n",
    "def show_image (img, label, guess):\n",
    "    plt.figure()\n",
    "    plt.imshow(img, cmap=plt.cm.binary)\n",
    "    plt.title(\"Expected: \"+ label)\n",
    "    plt.xlabel(\"Guess: \" + guess)\n",
    "    plt.colorbar()\n",
    "    plt.grid(False)\n",
    "    plt.show()   \n",
    "    \n",
    "    \n",
    "def get_number() :\n",
    "    while True:\n",
    "        num = input(\"Pick a number: \")\n",
    "        if num.isdigit() :\n",
    "            num = int(num)\n",
    "            if 0 <= num <= 1000:\n",
    "                return int(num)\n",
    "        else:\n",
    "            print(\"Try again..\")\n",
    "\n",
    "\n",
    "\n",
    "\n",
    "\n",
    "num= get_number()\n",
    "image= test_images[num]\n",
    "label= test_labels[num]\n",
    "predict(model, image, label)    \n",
    "     "
   ]
  },
  {
   "cell_type": "code",
   "execution_count": null,
   "metadata": {},
   "outputs": [],
   "source": []
  }
 ],
 "metadata": {
  "kernelspec": {
   "display_name": "Python 3.10.4 64-bit",
   "language": "python",
   "name": "python3"
  },
  "language_info": {
   "codemirror_mode": {
    "name": "ipython",
    "version": 3
   },
   "file_extension": ".py",
   "mimetype": "text/x-python",
   "name": "python",
   "nbconvert_exporter": "python",
   "pygments_lexer": "ipython3",
   "version": "3.10.4"
  },
  "orig_nbformat": 4,
  "vscode": {
   "interpreter": {
    "hash": "551ae5f633a0703ebed0200388e4816cacfa09364f5d947665a859afca4b84e8"
   }
  }
 },
 "nbformat": 4,
 "nbformat_minor": 2
}
