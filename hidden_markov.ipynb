{
 "cells": [
  {
   "cell_type": "markdown",
   "metadata": {},
   "source": [
    "all the previous algs rely mainly on data \n",
    "\n",
    "but in hidden_markov_model we deal with probability distributions\n",
    "\n",
    "the best example is a basic weather model that depends on the previous weather cases to predict the future weather"
   ]
  },
  {
   "cell_type": "markdown",
   "metadata": {},
   "source": [
    "Hidden Markov Models\n",
    "\n",
    "\"The Hidden Markov Model is a finite set of states, each of which is associated with a (generally multidimensional) probability distribution.\n",
    "\n",
    "Transitions among the states are governed by a set of probabilities called transition probabilities:\n",
    "(http://jedlik.phy.bme.hu/gerjanos/HMM/node4.html)\n",
    "\n",
    "A hidden markov model works with probabilities to predict future events or states. In this section we will learn how to create a hidden markov\n",
    "model that can predict the weather.\n",
    "\n",
    "This section is based on the following TensorFlow tutorial.\n",
    "https://www.tensortflow.org/probability/api_docs/python/tfp/distributions/HiddenMarkovModel"
   ]
  },
  {
   "cell_type": "markdown",
   "metadata": {},
   "source": [
    "so the states in the weather model are hot day and cold day (these are what we call hidden)-->bec we never interact with those states while interacting with the model"
   ]
  },
  {
   "cell_type": "markdown",
   "metadata": {},
   "source": [
    "# Data\n",
    "\n",
    "Let's start by discussing the type of data we use when we work with a hidden markov model.\n",
    "\n",
    "In the previous sections we worked with large datasets of 100's of different entries. For a markov model we are only interested in probability\n",
    "distributions that have to do with states.\n",
    "\n",
    "We can find these probabilities from large datasets or may already have these values. We'll run through an example in a second that should\n",
    "clear some things up, but let's discuss   ~the components of a markov model~.\n",
    "\n",
    "\n",
    "~States~: In each markov model we have a finite set of states. These states could be something like \"warm' and 'cold\" or \"high\" and \"low\" or even\n",
    "'red', 'green' and \"blue'. These states are \"hidden' within the model, which means we do not directly observe them.\n",
    "\n",
    "~Observations~: Each state has a particular outcome or observation associated with it based on a probability distribution. An example of this is\n",
    "the following: On a hot day Tim has a 80% chance of being happy and a 20% chance of being sad.\n",
    "\n",
    "~Transitions~: Each state will have a probability defining the likelyhood of transitioning to a different state. An example is the following: a cold day\n",
    "has a 30% chance of being followed by a hot day and a 70% chance of being followed by another cold day."
   ]
  },
  {
   "cell_type": "markdown",
   "metadata": {},
   "source": [
    "To create a hidden markov model we need.\n",
    ".States\n",
    ".Observation Distribution\n",
    ".Transition Distribution\n",
    "\n",
    "For our purpose we will assume we already have this information available as we attempt to predict the weather on a given day."
   ]
  },
  {
   "cell_type": "code",
   "execution_count": 9,
   "metadata": {},
   "outputs": [],
   "source": [
    "import tensorflow as tf\n",
    "import tensorflow_probability as tfp "
   ]
  },
  {
   "cell_type": "markdown",
   "metadata": {},
   "source": [
    "\n",
    "[**Weather Model**]\n",
    "\n",
    "\n",
    "\n",
    "\n",
    "Taken directly from the TensorFlow documentation\n",
    "(https://www.tensorflow.org/probability/api_docs/python/tfp/distributions/HiddenMarkovModel).\n",
    "\n",
    "We will model a simple weather system and try to predict the temperature on each day given the following information.\n",
    "\n",
    "1. Cold days are encoded by a 0 and hot days are encoded by a 1.\n",
    "2. The first day in our sequence has an 80% chance of being cold.\n",
    "3. A cold day has a 30% chance of being followed by a hot day.\n",
    "4. A hot day has a 20% chance of being followed by a cold day.\n",
    "5. On each day the temperature is normally distributed with mean and standard deviation 0 and 5 ona cold day and mean and standard deviation 15 and 10 on a\n",
    "t day.\n",
    "\n",
    "if you're unfamiliar with standard deviation it can be put simply as the range of expected values.\n",
    "\n",
    "In this example, on a hot day the average temperature is 15 and ranges from 5 to 25.\n",
    "\n",
    "To model this in TensorFlow we will do the following."
   ]
  },
  {
   "cell_type": "code",
   "execution_count": 10,
   "metadata": {},
   "outputs": [],
   "source": [
    "tfd= tfp.distributions       # making a shortcut for later on\n",
    "initial_distribution = tfd.Categorical(probs=[0.8,0.2])  # Refer to point 2 above\n",
    "    ##so that the initial distribution of being cold is 80% and 20% after\n",
    "transition_distribution = tfd.Categorical (probs=[[0.7, 0.3],\n",
    "                                                  [0.2, 0.8]]) # refer to points 3 and 4 above\n",
    "observation_distribution= tfd.Normal(loc=[0.,15.], scale=[5.,10.])   # refer to point 5 above\n",
    "    # the loc argument represents the mean(the mean is 0 on cold days and 15 on hot) and the Scale is the standard devitation(the std deviation on hot days is 10 and 5 on cold )"
   ]
  },
  {
   "cell_type": "code",
   "execution_count": 11,
   "metadata": {},
   "outputs": [],
   "source": [
    "#We've now created distribution variables to model our system and it's time to create the hidden markov model.\n",
    "model = tfd.HiddenMarkovModel(\n",
    "    initial_distribution=initial_distribution,\n",
    "    transition_distribution=transition_distribution,\n",
    "    observation_distribution= observation_distribution,\n",
    "    num_steps=7)        ##steps is how many days we want to predict for  "
   ]
  },
  {
   "cell_type": "code",
   "execution_count": 12,
   "metadata": {},
   "outputs": [
    {
     "name": "stdout",
     "output_type": "stream",
     "text": [
      "[3.        5.9999995 7.4999995 8.25      8.625     8.812501  8.90625  ]\n"
     ]
    }
   ],
   "source": [
    "#The number of steps represents the number of days that we would like to predict intormation for. In this case we ve chosen 7, an entire week.\n",
    "#To get the expected temperatures on each day we can do the following.\n",
    "\n",
    "\n",
    "mean = model.mean()\n",
    "# due to the way TensorFlow Works on a lower level we need to evaluate part of the graph\n",
    "# from within a session to see the value of this tensor\n",
    "#in the new version of tensorflow we need to use tf. compat . v1. Session (0 rather than just tf. Session ()\n",
    "with tf.compat.v1.Session() as sess:\n",
    "    print(mean.numpy())\n"
   ]
  },
  {
   "cell_type": "markdown",
   "metadata": {},
   "source": [
    "هنا عمر مالقيم هتتغير عشان الاحتمالات ثابتة \n",
    "\n",
    "\n",
    ".او حرارة 3 عشان انتا بادئ بيوم سقعة\n",
    "\n",
    "\n",
    "ولو غيرت الاحتمالات اللي فوق في الinitial distribution\n",
    "هتغير القيم \n",
    "\n"
   ]
  },
  {
   "cell_type": "code",
   "execution_count": null,
   "metadata": {},
   "outputs": [],
   "source": []
  },
  {
   "cell_type": "code",
   "execution_count": null,
   "metadata": {},
   "outputs": [],
   "source": []
  },
  {
   "cell_type": "code",
   "execution_count": null,
   "metadata": {},
   "outputs": [],
   "source": []
  },
  {
   "cell_type": "code",
   "execution_count": null,
   "metadata": {},
   "outputs": [],
   "source": []
  },
  {
   "cell_type": "code",
   "execution_count": null,
   "metadata": {},
   "outputs": [],
   "source": []
  },
  {
   "cell_type": "code",
   "execution_count": null,
   "metadata": {},
   "outputs": [],
   "source": []
  },
  {
   "cell_type": "code",
   "execution_count": null,
   "metadata": {},
   "outputs": [],
   "source": []
  },
  {
   "cell_type": "markdown",
   "metadata": {},
   "source": []
  },
  {
   "cell_type": "markdown",
   "metadata": {},
   "source": []
  },
  {
   "cell_type": "markdown",
   "metadata": {},
   "source": []
  },
  {
   "cell_type": "markdown",
   "metadata": {},
   "source": []
  },
  {
   "cell_type": "markdown",
   "metadata": {},
   "source": []
  }
 ],
 "metadata": {
  "kernelspec": {
   "display_name": "Python 3.10.4 64-bit",
   "language": "python",
   "name": "python3"
  },
  "language_info": {
   "codemirror_mode": {
    "name": "ipython",
    "version": 3
   },
   "file_extension": ".py",
   "mimetype": "text/x-python",
   "name": "python",
   "nbconvert_exporter": "python",
   "pygments_lexer": "ipython3",
   "version": "3.10.4"
  },
  "orig_nbformat": 4,
  "vscode": {
   "interpreter": {
    "hash": "551ae5f633a0703ebed0200388e4816cacfa09364f5d947665a859afca4b84e8"
   }
  }
 },
 "nbformat": 4,
 "nbformat_minor": 2
}
