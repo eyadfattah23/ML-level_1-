{
 "cells": [
  {
   "cell_type": "code",
   "execution_count": 57,
   "metadata": {},
   "outputs": [
    {
     "data": {
      "text/plain": [
       "\"Now that weve covered linear regression it is time to talk about classification. Where regression was used to predict a numeric value,\\nclassification is used to seperate data points into classes of different labels. In this example we will use a TensorFlow estimator to classity\\nflowers,    so rather than predicting numerical values we will predict classes; so we will predict the probability that a specific data point is within all the different calasses it could be\\nSince we've touched on how estimators work earlier we'll go a bit quicker through this example\\nThis section is based on the following guide from the Tensorflow website. httas:/bwrow.tens.orfi.cow.org.utorialsiestimator/premade\\n\\nالمطلوب هنا ان من خلال الداتا اللي عندك هتعرف نوع الورد ده ايه\\n\""
      ]
     },
     "execution_count": 57,
     "metadata": {},
     "output_type": "execute_result"
    }
   ],
   "source": [
    "\n",
    "###Classification\n",
    "\"\"\"Now that weve covered linear regression it is time to talk about classification. Where regression was used to predict a numeric value,\n",
    "classification is used to seperate data points into classes of different labels. In this example we will use a TensorFlow estimator to classity\n",
    "flowers,    so rather than predicting numerical values we will predict classes; so we will predict the probability that a specific data point is within all the different calasses it could be\n",
    "Since we've touched on how estimators work earlier we'll go a bit quicker through this example\n",
    "This section is based on the following guide from the Tensorflow website. httas:/bwrow.tens.orfi.cow.org.utorialsiestimator/premade\n",
    "\n",
    "المطلوب هنا ان من خلال الداتا اللي عندك هتعرف نوع الورد ده ايه\n",
    "\"\"\""
   ]
  },
  {
   "cell_type": "code",
   "execution_count": 58,
   "metadata": {},
   "outputs": [],
   "source": [
    "import matplotlib.pyplot as plt         ##visualization\n",
    "import numpy as np        \n",
    "import tensorflow as tf \n",
    "import pandas as pd         ##data analysis\n",
    "from IPython.display import clear_output\n",
    "from urllib.parse import urlencode\n",
    "from tkinter import NUMERIC"
   ]
  },
  {
   "cell_type": "code",
   "execution_count": 59,
   "metadata": {},
   "outputs": [
    {
     "data": {
      "text/plain": [
       "'\\n-->This specific dataset seperates flowers into 3 different classes of species.\\n.Setosa\\n.Versicolor\\n.Virginica\\n-->The information about each flower is the following.\\n.sepal length\\n.sepal width\\n.petal length\\n.petal width\\n'"
      ]
     },
     "execution_count": 59,
     "metadata": {},
     "output_type": "execute_result"
    }
   ],
   "source": [
    "###Dataset\n",
    "\"\"\"\n",
    "-->This specific dataset seperates flowers into 3 different classes of species.\n",
    ".Setosa\n",
    ".Versicolor\n",
    ".Virginica\n",
    "-->The information about each flower is the following.\n",
    ".sepal length\n",
    ".sepal width\n",
    ".petal length\n",
    ".petal width\n",
    "\"\"\""
   ]
  },
  {
   "cell_type": "code",
   "execution_count": 60,
   "metadata": {},
   "outputs": [],
   "source": [
    "CSV_COLUMN_NAMES= ['SepalLength','SepalWidth','PetalLength', 'PetalWidth', 'Species']  #headers\n",
    "SPECIES=['Setosa', 'Versicolor', 'Virginica']\n",
    "#Lets define some constants to help us later on  "
   ]
  },
  {
   "cell_type": "code",
   "execution_count": 61,
   "metadata": {},
   "outputs": [],
   "source": [
    "train_path = tf.keras.utils.get_file(\n",
    "    \"iris_training.csv\", \"https://storage.googleapis.com/download.tensorflow.org/data/iris_training.csv\")\n",
    "\n",
    "test_path = tf.keras.utils.get_file(\n",
    "    \"iris_test.csv\", \"https://storage.googleapis.com/download.tensorflow.org/data/iris_test.csv\")\n",
    "    "
   ]
  },
  {
   "cell_type": "code",
   "execution_count": 62,
   "metadata": {},
   "outputs": [],
   "source": [
    "train = pd.read_csv(train_path, names=CSV_COLUMN_NAMES, header=0)\n",
    "test = pd.read_csv(test_path, names=CSV_COLUMN_NAMES, header=0)\n",
    "#Here we use keras (a module inside of TensorFlow) to grab our datasets and read them into a pandas data frame"
   ]
  },
  {
   "cell_type": "code",
   "execution_count": 63,
   "metadata": {},
   "outputs": [
    {
     "data": {
      "text/plain": [
       "'notice that sprecies are defined numerically so you didnt need to encode\\n.Setosa=0\\n.Versicolor=1\\n.Virginica=2\\n'"
      ]
     },
     "execution_count": 63,
     "metadata": {},
     "output_type": "execute_result"
    }
   ],
   "source": [
    "train.head()\n",
    "\n",
    "\"\"\"notice that sprecies are defined numerically so you didnt need to encode\n",
    ".Setosa=0\n",
    ".Versicolor=1\n",
    ".Virginica=2\n",
    "\"\"\""
   ]
  },
  {
   "cell_type": "code",
   "execution_count": 64,
   "metadata": {},
   "outputs": [
    {
     "name": "stdout",
     "output_type": "stream",
     "text": [
      "   SepalLength  SepalWidth  PetalLength  PetalWidth\n",
      "0          6.4         2.8          5.6         2.2\n",
      "1          5.0         2.3          3.3         1.0\n",
      "2          4.9         2.5          4.5         1.7\n",
      "3          4.9         3.1          1.5         0.1\n",
      "4          5.7         3.8          1.7         0.3\n"
     ]
    },
    {
     "data": {
      "text/plain": [
       "(120, 4)"
      ]
     },
     "execution_count": 64,
     "metadata": {},
     "output_type": "execute_result"
    }
   ],
   "source": [
    "train_y = train.pop('Species')\n",
    "test_y = test.pop('Species')\n",
    "\"\"\"كدا خليت الواي هي السبيسيس\"\"\"\n",
    "print(train.head())    #species column is now gone \n",
    "train.shape     #120 row and 4 columns"
   ]
  },
  {
   "cell_type": "code",
   "execution_count": 65,
   "metadata": {},
   "outputs": [
    {
     "data": {
      "text/plain": [
       "' \\nهنا مفيش ايبوكس و الباتش سايز مختلف \\nهنا انتا بتباصي الداتا اللي موجودة (الفيتشرز) مع الليبلز \\n\\n'"
      ]
     },
     "execution_count": 65,
     "metadata": {},
     "output_type": "execute_result"
    }
   ],
   "source": [
    "###Input Function\n",
    "\"\"\"Remember that nasty input function we created earlier. Well we need to make another one here! Fortunatly for us this one is a little easier to\n",
    "digest.\"\"\"\n",
    "\n",
    "def input_fn(features, labels, training=True, batch_size=256):\n",
    "    #Convert the inputs to a Dataset.\n",
    "    dataset= tf.data.Dataset.from_tensor_slices((dict(features), labels))\n",
    "    #Shuffle and repeat if you are in training mode.\n",
    "    if training:\n",
    "        dataset= dataset.shuffle(1000).repeat()\n",
    "    return dataset.batch(batch_size)\n",
    "\"\"\" \n",
    "هنا مفيش ايبوكس و الباتش سايز مختلف \n",
    "هنا انتا بتباصي الداتا اللي موجودة (الفيتشرز) مع الليبلز \n",
    "\n",
    "\"\"\""
   ]
  },
  {
   "cell_type": "code",
   "execution_count": 66,
   "metadata": {},
   "outputs": [
    {
     "name": "stdout",
     "output_type": "stream",
     "text": [
      "[NumericColumn(key='SepalLength', shape=(1,), default_value=None, dtype=tf.float32, normalizer_fn=None), NumericColumn(key='SepalWidth', shape=(1,), default_value=None, dtype=tf.float32, normalizer_fn=None), NumericColumn(key='PetalLength', shape=(1,), default_value=None, dtype=tf.float32, normalizer_fn=None), NumericColumn(key='PetalWidth', shape=(1,), default_value=None, dtype=tf.float32, normalizer_fn=None)]\n"
     ]
    }
   ],
   "source": [
    "### Feature columns describe how to use the input.\n",
    "my_feature_columns =[]\n",
    "for key in train.keys () :      #train.keys gives us all the columns\n",
    "    \"\"\"وكان ممكن اعمل الللوب في عواميد السي اس في اللي فوق خالص بس هتشيل السبيسيز اللي فالاخر \"\"\"\n",
    "    my_feature_columns. append (tf. feature_column. numeric_column (key=key))\n",
    "print (my_feature_columns)"
   ]
  },
  {
   "cell_type": "markdown",
   "metadata": {},
   "source": [
    "###Building the Model\n",
    "'''And now we are ready to choose a model. For classification tasks there are variety of different estimators/models that we can pick from.\n",
    "Some options are listed below.\n",
    ".DNNClassifier (Deep Neural Network)        \n",
    ".LinearClassifier --> ~works like linear regression but it classifies so u get the probabilty of being a specific value rather than the probabiltity of a numeric value \n",
    "We can choose either model but the DNN seems to be the best choice. This is because we may not be able to find a linear coorespondence\n",
    "in our data.\n",
    "So let's build a mode!'''"
   ]
  },
  {
   "cell_type": "code",
   "execution_count": 67,
   "metadata": {},
   "outputs": [
    {
     "name": "stdout",
     "output_type": "stream",
     "text": [
      "INFO:tensorflow:Using default config.\n",
      "WARNING:tensorflow:Using temporary folder as model directory: C:\\Users\\GAMING~1\\AppData\\Local\\Temp\\tmp2utt6_ox\n",
      "INFO:tensorflow:Using config: {'_model_dir': 'C:\\\\Users\\\\GAMING~1\\\\AppData\\\\Local\\\\Temp\\\\tmp2utt6_ox', '_tf_random_seed': None, '_save_summary_steps': 100, '_save_checkpoints_steps': None, '_save_checkpoints_secs': 600, '_session_config': allow_soft_placement: true\n",
      "graph_options {\n",
      "  rewrite_options {\n",
      "    meta_optimizer_iterations: ONE\n",
      "  }\n",
      "}\n",
      ", '_keep_checkpoint_max': 5, '_keep_checkpoint_every_n_hours': 10000, '_log_step_count_steps': 100, '_train_distribute': None, '_device_fn': None, '_protocol': None, '_eval_distribute': None, '_experimental_distribute': None, '_experimental_max_worker_delay_secs': None, '_session_creation_timeout_secs': 7200, '_checkpoint_save_graph_def': True, '_service': None, '_cluster_spec': ClusterSpec({}), '_task_type': 'worker', '_task_id': 0, '_global_id_in_cluster': 0, '_master': '', '_evaluation_master': '', '_is_chief': True, '_num_ps_replicas': 0, '_num_worker_replicas': 1}\n"
     ]
    }
   ],
   "source": [
    "#Build a DNN with 2 hidden layers with 30 and 18 hidden nodes each.\n",
    "'''estimator stores a bunch of pre made models from tf & the dnn classifier is one of those'''\n",
    "classifier =  tf.estimator . DNNClassifier(        #here we need to define the hidden units(building the archeticture of the neural network)\n",
    "    feature_columns=my_feature_columns,\n",
    "# Two hidden layers of 30 and 10 nodes respectively.\n",
    "    hidden_units=[30, 10],\n",
    "# The model must choose between 3 classes. as there are 3 classes of flowers\n",
    "    n_classes=3)"
   ]
  },
  {
   "cell_type": "code",
   "execution_count": 68,
   "metadata": {},
   "outputs": [
    {
     "name": "stdout",
     "output_type": "stream",
     "text": [
      "INFO:tensorflow:Calling model_fn.\n",
      "INFO:tensorflow:Done calling model_fn.\n",
      "INFO:tensorflow:Create CheckpointSaverHook.\n",
      "INFO:tensorflow:Graph was finalized.\n",
      "INFO:tensorflow:Running local_init_op.\n",
      "INFO:tensorflow:Done running local_init_op.\n",
      "INFO:tensorflow:Calling checkpoint listeners before saving checkpoint 0...\n",
      "INFO:tensorflow:Saving checkpoints for 0 into C:\\Users\\GAMING~1\\AppData\\Local\\Temp\\tmp2utt6_ox\\model.ckpt.\n",
      "INFO:tensorflow:Calling checkpoint listeners after saving checkpoint 0...\n",
      "INFO:tensorflow:loss = 0.9437385, step = 0\n",
      "INFO:tensorflow:global_step/sec: 340.467\n",
      "INFO:tensorflow:loss = 0.774439, step = 100 (0.295 sec)\n",
      "INFO:tensorflow:global_step/sec: 335.917\n",
      "INFO:tensorflow:loss = 0.71999776, step = 200 (0.299 sec)\n",
      "INFO:tensorflow:global_step/sec: 283.305\n",
      "INFO:tensorflow:loss = 0.69623816, step = 300 (0.354 sec)\n",
      "INFO:tensorflow:global_step/sec: 297.565\n",
      "INFO:tensorflow:loss = 0.67182755, step = 400 (0.335 sec)\n",
      "INFO:tensorflow:global_step/sec: 285.337\n",
      "INFO:tensorflow:loss = 0.6336123, step = 500 (0.350 sec)\n",
      "INFO:tensorflow:global_step/sec: 305.813\n",
      "INFO:tensorflow:loss = 0.6117672, step = 600 (0.328 sec)\n",
      "INFO:tensorflow:global_step/sec: 345.4\n",
      "INFO:tensorflow:loss = 0.59575206, step = 700 (0.290 sec)\n",
      "INFO:tensorflow:global_step/sec: 326.828\n",
      "INFO:tensorflow:loss = 0.5713942, step = 800 (0.305 sec)\n",
      "INFO:tensorflow:global_step/sec: 296.648\n",
      "INFO:tensorflow:loss = 0.55924183, step = 900 (0.338 sec)\n",
      "INFO:tensorflow:global_step/sec: 306.705\n",
      "INFO:tensorflow:loss = 0.539544, step = 1000 (0.326 sec)\n",
      "INFO:tensorflow:global_step/sec: 334.432\n",
      "INFO:tensorflow:loss = 0.50219023, step = 1100 (0.298 sec)\n",
      "INFO:tensorflow:global_step/sec: 216.473\n",
      "INFO:tensorflow:loss = 0.49003786, step = 1200 (0.463 sec)\n",
      "INFO:tensorflow:global_step/sec: 220.775\n",
      "INFO:tensorflow:loss = 0.4828977, step = 1300 (0.453 sec)\n",
      "INFO:tensorflow:global_step/sec: 312.963\n",
      "INFO:tensorflow:loss = 0.45283216, step = 1400 (0.318 sec)\n",
      "INFO:tensorflow:global_step/sec: 278.027\n",
      "INFO:tensorflow:loss = 0.44688198, step = 1500 (0.360 sec)\n",
      "INFO:tensorflow:global_step/sec: 324.741\n",
      "INFO:tensorflow:loss = 0.44984472, step = 1600 (0.309 sec)\n",
      "INFO:tensorflow:global_step/sec: 281.035\n",
      "INFO:tensorflow:loss = 0.43090665, step = 1700 (0.356 sec)\n",
      "INFO:tensorflow:global_step/sec: 259.931\n",
      "INFO:tensorflow:loss = 0.41458276, step = 1800 (0.384 sec)\n",
      "INFO:tensorflow:global_step/sec: 330.843\n",
      "INFO:tensorflow:loss = 0.41031727, step = 1900 (0.302 sec)\n",
      "INFO:tensorflow:global_step/sec: 261.383\n",
      "INFO:tensorflow:loss = 0.39685583, step = 2000 (0.384 sec)\n",
      "INFO:tensorflow:global_step/sec: 252.668\n",
      "INFO:tensorflow:loss = 0.39007905, step = 2100 (0.396 sec)\n",
      "INFO:tensorflow:global_step/sec: 244.79\n",
      "INFO:tensorflow:loss = 0.3843354, step = 2200 (0.408 sec)\n",
      "INFO:tensorflow:global_step/sec: 250.659\n",
      "INFO:tensorflow:loss = 0.37237015, step = 2300 (0.400 sec)\n",
      "INFO:tensorflow:global_step/sec: 348.573\n",
      "INFO:tensorflow:loss = 0.3603369, step = 2400 (0.284 sec)\n",
      "INFO:tensorflow:global_step/sec: 375.705\n",
      "INFO:tensorflow:loss = 0.34622493, step = 2500 (0.268 sec)\n",
      "INFO:tensorflow:global_step/sec: 275.628\n",
      "INFO:tensorflow:loss = 0.35364288, step = 2600 (0.364 sec)\n",
      "INFO:tensorflow:global_step/sec: 235.4\n",
      "INFO:tensorflow:loss = 0.34057602, step = 2700 (0.424 sec)\n",
      "INFO:tensorflow:global_step/sec: 258.382\n",
      "INFO:tensorflow:loss = 0.34011188, step = 2800 (0.386 sec)\n",
      "INFO:tensorflow:global_step/sec: 357.033\n",
      "INFO:tensorflow:loss = 0.33580565, step = 2900 (0.280 sec)\n",
      "INFO:tensorflow:global_step/sec: 261.411\n",
      "INFO:tensorflow:loss = 0.33099866, step = 3000 (0.384 sec)\n",
      "INFO:tensorflow:global_step/sec: 258.194\n",
      "INFO:tensorflow:loss = 0.3160209, step = 3100 (0.388 sec)\n",
      "INFO:tensorflow:global_step/sec: 241.471\n",
      "INFO:tensorflow:loss = 0.318092, step = 3200 (0.414 sec)\n",
      "INFO:tensorflow:global_step/sec: 245.353\n",
      "INFO:tensorflow:loss = 0.3111139, step = 3300 (0.407 sec)\n",
      "INFO:tensorflow:global_step/sec: 407.819\n",
      "INFO:tensorflow:loss = 0.32035753, step = 3400 (0.245 sec)\n",
      "INFO:tensorflow:global_step/sec: 279.87\n",
      "INFO:tensorflow:loss = 0.29412115, step = 3500 (0.358 sec)\n",
      "INFO:tensorflow:global_step/sec: 274.833\n",
      "INFO:tensorflow:loss = 0.30299377, step = 3600 (0.363 sec)\n",
      "INFO:tensorflow:global_step/sec: 249.966\n",
      "INFO:tensorflow:loss = 0.2902512, step = 3700 (0.401 sec)\n",
      "INFO:tensorflow:global_step/sec: 239.807\n",
      "INFO:tensorflow:loss = 0.29676735, step = 3800 (0.417 sec)\n",
      "INFO:tensorflow:global_step/sec: 244.128\n",
      "INFO:tensorflow:loss = 0.2861948, step = 3900 (0.410 sec)\n",
      "INFO:tensorflow:global_step/sec: 241.065\n",
      "INFO:tensorflow:loss = 0.2792437, step = 4000 (0.415 sec)\n",
      "INFO:tensorflow:global_step/sec: 245.087\n",
      "INFO:tensorflow:loss = 0.27137455, step = 4100 (0.407 sec)\n",
      "INFO:tensorflow:global_step/sec: 236.345\n",
      "INFO:tensorflow:loss = 0.26906323, step = 4200 (0.424 sec)\n",
      "INFO:tensorflow:global_step/sec: 235.024\n",
      "INFO:tensorflow:loss = 0.27227283, step = 4300 (0.425 sec)\n",
      "INFO:tensorflow:global_step/sec: 282.855\n",
      "INFO:tensorflow:loss = 0.27297655, step = 4400 (0.354 sec)\n",
      "INFO:tensorflow:global_step/sec: 247.351\n",
      "INFO:tensorflow:loss = 0.25870907, step = 4500 (0.403 sec)\n",
      "INFO:tensorflow:global_step/sec: 406.895\n",
      "INFO:tensorflow:loss = 0.25280204, step = 4600 (0.246 sec)\n",
      "INFO:tensorflow:global_step/sec: 311.949\n",
      "INFO:tensorflow:loss = 0.25432485, step = 4700 (0.322 sec)\n",
      "INFO:tensorflow:global_step/sec: 323.583\n",
      "INFO:tensorflow:loss = 0.2576664, step = 4800 (0.309 sec)\n",
      "INFO:tensorflow:global_step/sec: 316.516\n",
      "INFO:tensorflow:loss = 0.23936944, step = 4900 (0.315 sec)\n",
      "INFO:tensorflow:Calling checkpoint listeners before saving checkpoint 5000...\n",
      "INFO:tensorflow:Saving checkpoints for 5000 into C:\\Users\\GAMING~1\\AppData\\Local\\Temp\\tmp2utt6_ox\\model.ckpt.\n",
      "INFO:tensorflow:Calling checkpoint listeners after saving checkpoint 5000...\n",
      "INFO:tensorflow:Loss for final step: 0.23712629.\n"
     ]
    },
    {
     "data": {
      "text/plain": [
       "'~~lambda~~ is an anonymous function that can be defined in 1 line\\nلو كنت عملت زي فايل اللينير ريجريشن وخليت فنكشن انبوت جوا فنكشن انبوت مكنتش هتستعمل لامبدا \\n\\n\\nيعني هنا كاني عملت نفس الخطوة بتاعة تعريف فنكشن جوا فنكشن بس باستخدام اللامبدا اللي بتخليك تعرف فنكشن في سطر واحد\\n\\nولامبدا كانها فنشكن جديدة بس ملهاش اسم معين\\n\\n'"
      ]
     },
     "execution_count": 68,
     "metadata": {},
     "output_type": "execute_result"
    }
   ],
   "source": [
    "##Training\n",
    "'''Now it's time to train the model!'''\n",
    "\n",
    "\n",
    "classifier.train(\n",
    "    input_fn=lambda : input_fn(train, train_y, training=True) ,\n",
    "    steps=5000)\n",
    "\n",
    "#what is lambda doing here?->as we need the actual func. object so we defined a func that returns a function to us\n",
    "#\n",
    "\n",
    "\n",
    "\n",
    "'''~~lambda~~ is an anonymous function that can be defined in 1 line\n",
    "لو كنت عملت زي فايل اللينير ريجريشن وخليت فنكشن انبوت جوا فنكشن انبوت مكنتش هتستعمل لامبدا \n",
    "\n",
    "\n",
    "يعني هنا كاني عملت نفس الخطوة بتاعة تعريف فنكشن جوا فنكشن بس باستخدام اللامبدا اللي بتخليك تعرف فنكشن في سطر واحد\n",
    "\n",
    "ولامبدا كانها فنشكن جديدة بس ملهاش اسم معين\n",
    "\n",
    "'''\n",
    "#We include a lambda to avoid creating an inner function previously"
   ]
  },
  {
   "cell_type": "code",
   "execution_count": 69,
   "metadata": {},
   "outputs": [
    {
     "name": "stdout",
     "output_type": "stream",
     "text": [
      "hi\n"
     ]
    },
    {
     "data": {
      "text/plain": [
       "'when you called x it executed the lambda func that executed another func. which is print'"
      ]
     },
     "execution_count": 69,
     "metadata": {},
     "output_type": "execute_result"
    }
   ],
   "source": [
    "###lambda\n",
    "'''so lambda allows tou to define a function in 1 line '''\n",
    "x_test=lambda: print(\"hi\")    #instead of def x(argument){/*code*/}\n",
    "x_test()\n",
    "'''when you called x it executed the lambda func that executed another func. which is print'''"
   ]
  },
  {
   "cell_type": "code",
   "execution_count": 70,
   "metadata": {},
   "outputs": [
    {
     "name": "stdout",
     "output_type": "stream",
     "text": [
      "INFO:tensorflow:Calling model_fn.\n",
      "INFO:tensorflow:Done calling model_fn.\n",
      "INFO:tensorflow:Starting evaluation at 2022-09-23T17:21:44\n",
      "INFO:tensorflow:Graph was finalized.\n",
      "INFO:tensorflow:Restoring parameters from C:\\Users\\GAMING~1\\AppData\\Local\\Temp\\tmp2utt6_ox\\model.ckpt-5000\n",
      "INFO:tensorflow:Running local_init_op.\n",
      "INFO:tensorflow:Done running local_init_op.\n",
      "INFO:tensorflow:Inference Time : 0.30235s\n",
      "INFO:tensorflow:Finished evaluation at 2022-09-23-17:21:44\n",
      "INFO:tensorflow:Saving dict for global step 5000: accuracy = 0.96666664, average_loss = 0.28273112, global_step = 5000, loss = 0.28273112\n",
      "INFO:tensorflow:Saving 'checkpoint_path' summary for global step 5000: C:\\Users\\GAMING~1\\AppData\\Local\\Temp\\tmp2utt6_ox\\model.ckpt-5000\n",
      "\n",
      "Test set accuracy: 0.967\n",
      "\n"
     ]
    }
   ],
   "source": [
    "###EvaluationN\n",
    "#'''Now let's see how this trained model does!'''\n",
    "\n",
    "eval_result = classifier. evaluate(\n",
    "    input_fn=lambda : input_fn(test, test_y, training=False) )\n",
    "\n",
    "print(\"\\nTest set accuracy: {accuracy:0.3f}\\n\" .format (**eval_result))\n",
    "\n",
    "\n",
    "#Notice this time we didint specify the no. of steps, bec. during evaluation the model will look at the testing data once"
   ]
  },
  {
   "cell_type": "code",
   "execution_count": 71,
   "metadata": {},
   "outputs": [
    {
     "name": "stdout",
     "output_type": "stream",
     "text": [
      "Please type numeric values as prompted . \n",
      "INFO:tensorflow:Calling model_fn.\n",
      "INFO:tensorflow:Done calling model_fn.\n",
      "INFO:tensorflow:Graph was finalized.\n",
      "INFO:tensorflow:Restoring parameters from C:\\Users\\GAMING~1\\AppData\\Local\\Temp\\tmp2utt6_ox\\model.ckpt-5000\n",
      "INFO:tensorflow:Running local_init_op.\n",
      "INFO:tensorflow:Done running local_init_op.\n",
      "Prediction is \"Setosa\" (90.8%)\n"
     ]
    }
   ],
   "source": [
    "def input_fn(features, batch_size=256):         #notice no y values(labels) bec we dont know the label we want the model to predict the label\n",
    "    #Convert the inputs to a Dataset without labels.\n",
    "    return tf.data.Dataset.from_tensor_slices (dict(features)).batch(batch_size)\n",
    "features = ['SepalLength', 'SepalWidth', 'PetalLength', 'PetalWidth']\n",
    "predict = {}\n",
    "\n",
    "print(\"Please type numeric values as prompted . \")\n",
    "for feature in features:\n",
    "    valid=True\n",
    "    while valid:\n",
    "        val = input (feature+ \": \")\n",
    "        if not val.isdigit() : valid = False\n",
    "        \n",
    "    predict[feature] = [float(val)] \n",
    "    \n",
    "predictions = classifier . predict (input_fn =lambda: input_fn(predict))\n",
    "for pred_dict in predictions:\n",
    "    class_id = pred_dict['class_ids'][0]\n",
    "    probability = pred_dict['probabilities'][class_id]\n",
    "    \n",
    "    print( 'Prediction is \"{}\" ({:.1f}%)'. format (\n",
    "        SPECIES[class_id], 100 * probability))\n",
    "\n",
    "\n",
    "    \n"
   ]
  },
  {
   "cell_type": "markdown",
   "metadata": {},
   "source": [
    "this script will allow the user to type some nums(sepal & petal length, width) and it will predict the flower class\n",
    "in this one it will predict on 1 entry "
   ]
  },
  {
   "cell_type": "markdown",
   "metadata": {},
   "source": []
  },
  {
   "cell_type": "markdown",
   "metadata": {},
   "source": []
  },
  {
   "cell_type": "code",
   "execution_count": 72,
   "metadata": {},
   "outputs": [
    {
     "data": {
      "text/plain": [
       "{'logits': array([ 2.35036   ,  0.03964125, -3.6416903 ], dtype=float32),\n",
       " 'probabilities': array([0.9076977 , 0.09003447, 0.00226792], dtype=float32),\n",
       " 'class_ids': array([0], dtype=int64),\n",
       " 'classes': array([b'0'], dtype=object),\n",
       " 'all_class_ids': array([0, 1, 2]),\n",
       " 'all_classes': array([b'0', b'1', b'2'], dtype=object)}"
      ]
     },
     "execution_count": 72,
     "metadata": {},
     "output_type": "execute_result"
    }
   ],
   "source": [
    "pred_dict"
   ]
  },
  {
   "cell_type": "code",
   "execution_count": 73,
   "metadata": {},
   "outputs": [],
   "source": [
    "#Here is some example input and expected classes you can try above\n",
    "expected = ['Setosa', 'Versicolor', 'Virginica']\n",
    "predict_x = {\n",
    "    'SepalLength': [5.1, 5.9, 6.9],\n",
    "    \"Sepalwidth\": [3.3, 3.0, 3.1],\n",
    "    'PetalLength': [1.7, 4.2, 5.4],\n",
    "    'Petalwidth': [0.5, 1.5, 2.1],\n",
    "}"
   ]
  },
  {
   "cell_type": "code",
   "execution_count": null,
   "metadata": {},
   "outputs": [],
   "source": []
  },
  {
   "cell_type": "code",
   "execution_count": null,
   "metadata": {},
   "outputs": [],
   "source": []
  },
  {
   "cell_type": "code",
   "execution_count": null,
   "metadata": {},
   "outputs": [],
   "source": []
  },
  {
   "cell_type": "code",
   "execution_count": null,
   "metadata": {},
   "outputs": [],
   "source": []
  },
  {
   "cell_type": "code",
   "execution_count": null,
   "metadata": {},
   "outputs": [],
   "source": []
  },
  {
   "cell_type": "code",
   "execution_count": null,
   "metadata": {},
   "outputs": [],
   "source": []
  },
  {
   "cell_type": "code",
   "execution_count": null,
   "metadata": {},
   "outputs": [],
   "source": []
  },
  {
   "cell_type": "code",
   "execution_count": null,
   "metadata": {},
   "outputs": [],
   "source": []
  },
  {
   "cell_type": "code",
   "execution_count": null,
   "metadata": {},
   "outputs": [],
   "source": []
  },
  {
   "cell_type": "code",
   "execution_count": null,
   "metadata": {},
   "outputs": [],
   "source": []
  },
  {
   "cell_type": "code",
   "execution_count": null,
   "metadata": {},
   "outputs": [],
   "source": []
  }
 ],
 "metadata": {
  "kernelspec": {
   "display_name": "Python 3.10.4 64-bit",
   "language": "python",
   "name": "python3"
  },
  "language_info": {
   "codemirror_mode": {
    "name": "ipython",
    "version": 3
   },
   "file_extension": ".py",
   "mimetype": "text/x-python",
   "name": "python",
   "nbconvert_exporter": "python",
   "pygments_lexer": "ipython3",
   "version": "3.10.4"
  },
  "orig_nbformat": 4,
  "vscode": {
   "interpreter": {
    "hash": "551ae5f633a0703ebed0200388e4816cacfa09364f5d947665a859afca4b84e8"
   }
  }
 },
 "nbformat": 4,
 "nbformat_minor": 2
}
